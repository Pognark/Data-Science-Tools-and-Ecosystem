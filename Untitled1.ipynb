{
  "nbformat": 4,
  "nbformat_minor": 0,
  "metadata": {
    "colab": {
      "provenance": []
    },
    "kernelspec": {
      "name": "python3",
      "display_name": "Python 3"
    },
    "language_info": {
      "name": "python"
    }
  },
  "cells": [
    {
      "cell_type": "markdown",
      "source": [
        "# Data Science Tools and Ecosystem"
      ],
      "metadata": {
        "id": "xQAIJkJczaTX"
      }
    },
    {
      "cell_type": "markdown",
      "source": [
        "## Author:\n",
        "  Jose Antonio Vallejos"
      ],
      "metadata": {
        "id": "WHzdwnH34mtk"
      }
    },
    {
      "cell_type": "markdown",
      "source": [
        "In this notebook, Data Science Tools and Ecosystem are summarized."
      ],
      "metadata": {
        "id": "wRX5Nl2dzqdC"
      }
    },
    {
      "cell_type": "markdown",
      "source": [
        "###**Objectives**:\n",
        "  - List popular languages for Data Science\n",
        "  - Popular libraires for Data Science\n",
        "  - Artithmetics expressions\n"
      ],
      "metadata": {
        "id": "htf-NB3A3pOm"
      }
    },
    {
      "cell_type": "markdown",
      "source": [
        "Some of the popular languages that Data Scientists use are:\n",
        "  1. Python\n",
        "  2. SQL\n",
        "  3. Julia\n",
        "  4. R"
      ],
      "metadata": {
        "id": "b9cAoX0Az0rA"
      }
    },
    {
      "cell_type": "markdown",
      "source": [
        "Some of the commonly used libraries used by Data Scientists include:\n",
        "  1. Pandas\n",
        "  2. Numpy\n",
        "  3. scikit-learn"
      ],
      "metadata": {
        "id": "bnArWDS-0ioD"
      }
    },
    {
      "cell_type": "markdown",
      "source": [
        "### Below are a few examples of evaluating arithmetic expressions in Python:\n",
        "  "
      ],
      "metadata": {
        "id": "TVNrpO1-08nA"
      }
    },
    {
      "cell_type": "code",
      "source": [
        "(3*4)+5\n",
        "#This a simple arithmetic expression to mutiply then add integers"
      ],
      "metadata": {
        "colab": {
          "base_uri": "https://localhost:8080/"
        },
        "id": "TzkROvzO1S7P",
        "outputId": "6cb54c7d-7a83-4077-bcca-9bfdc54f07d6"
      },
      "execution_count": 3,
      "outputs": [
        {
          "output_type": "execute_result",
          "data": {
            "text/plain": [
              "17"
            ]
          },
          "metadata": {},
          "execution_count": 3
        }
      ]
    },
    {
      "cell_type": "code",
      "source": [
        "min = 200\n",
        "hours= min/60\n",
        "hours\n",
        "#This will convert 200 minutes to hours by diving by 60"
      ],
      "metadata": {
        "colab": {
          "base_uri": "https://localhost:8080/"
        },
        "id": "JDX_e2FK2aVl",
        "outputId": "3e0315f3-40dd-44e3-ffe2-12a5b09300e7"
      },
      "execution_count": 5,
      "outputs": [
        {
          "output_type": "execute_result",
          "data": {
            "text/plain": [
              "3.3333333333333335"
            ]
          },
          "metadata": {},
          "execution_count": 5
        }
      ]
    }
  ]
}